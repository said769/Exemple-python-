{
 "cells": [
  {
   "cell_type": "code",
   "execution_count": null,
   "id": "e51ce4ba-979b-449a-845d-283f5c7946f6",
   "metadata": {},
   "outputs": [],
   "source": [
    "#pip install numpy"
   ]
  },
  {
   "cell_type": "code",
   "execution_count": null,
   "id": "09de5518-fa1b-4c33-a3e2-993373a6c395",
   "metadata": {},
   "outputs": [],
   "source": [
    "import numpy as np"
   ]
  },
  {
   "cell_type": "code",
   "execution_count": null,
   "id": "0275451c-7164-454b-9427-cdcb7ff41ba5",
   "metadata": {},
   "outputs": [],
   "source": [
    "p = [1, 4.4, 'Lundi']"
   ]
  },
  {
   "cell_type": "code",
   "execution_count": null,
   "id": "7dc6c4b6-46a5-405e-8fc6-468bb6a0459d",
   "metadata": {},
   "outputs": [],
   "source": [
    "p"
   ]
  },
  {
   "cell_type": "code",
   "execution_count": null,
   "id": "d1fffc9b-21cd-444e-acff-b218a42115fb",
   "metadata": {},
   "outputs": [],
   "source": [
    "p.append(100)"
   ]
  },
  {
   "cell_type": "code",
   "execution_count": null,
   "id": "1f6700eb-48ad-4bc0-9401-4fb3164a6875",
   "metadata": {},
   "outputs": [],
   "source": [
    "Liste =[i**2 for i in range(10)]\n",
    "Liste"
   ]
  },
  {
   "cell_type": "code",
   "execution_count": null,
   "id": "59fa400e-c1a8-4c51-a45e-f84c335a0bc9",
   "metadata": {},
   "outputs": [],
   "source": [
    "def f(x):\n",
    "    return x**3"
   ]
  },
  {
   "cell_type": "code",
   "execution_count": null,
   "id": "b8b6cca8-fee6-4953-b029-8fdb340c33b7",
   "metadata": {},
   "outputs": [],
   "source": [
    "[f(x) for x in Liste]"
   ]
  },
  {
   "cell_type": "code",
   "execution_count": 1,
   "id": "604633ba-899c-476b-911c-760905433394",
   "metadata": {},
   "outputs": [],
   "source": [
    "import numpy as np"
   ]
  },
  {
   "cell_type": "code",
   "execution_count": null,
   "id": "c0d4edfa-ee00-44bf-8dd3-a6ea64333640",
   "metadata": {},
   "outputs": [],
   "source": [
    "tab = np.array([1, 4, 5])\n",
    "type(tab)"
   ]
  },
  {
   "cell_type": "code",
   "execution_count": null,
   "id": "298d07a4-400d-497d-bc7b-d6b562b2fe0a",
   "metadata": {},
   "outputs": [],
   "source": [
    "type(Liste)"
   ]
  },
  {
   "cell_type": "code",
   "execution_count": null,
   "id": "ae2056b2-2b20-4d90-baff-5f3788383b66",
   "metadata": {},
   "outputs": [],
   "source": [
    "tab1 = np.array([1, 13.6])\n",
    "tab1"
   ]
  },
  {
   "cell_type": "code",
   "execution_count": null,
   "id": "1db9fde4-321a-4f2f-af9f-db834a5403f2",
   "metadata": {},
   "outputs": [],
   "source": [
    "tab2 = np.array([1, 13.6, 'Lundi'])\n",
    "tab2"
   ]
  },
  {
   "cell_type": "code",
   "execution_count": null,
   "id": "1fa917c1-3805-4b7b-9cfa-b5690714d2a4",
   "metadata": {},
   "outputs": [],
   "source": [
    "T = np.array([1, 13])\n",
    "T"
   ]
  },
  {
   "cell_type": "code",
   "execution_count": null,
   "id": "8272de3c-3641-485b-bef8-4064b62edd20",
   "metadata": {},
   "outputs": [],
   "source": [
    "type(T[0])"
   ]
  },
  {
   "cell_type": "code",
   "execution_count": null,
   "id": "f9017846-f512-4001-99b0-e254e84d97b3",
   "metadata": {},
   "outputs": [],
   "source": [
    "T = np.array([256, 3], dtype=np.uint8)\n",
    "T"
   ]
  },
  {
   "cell_type": "code",
   "execution_count": null,
   "id": "bec83dfc-c6d0-4ce4-87a5-7d413aadeb27",
   "metadata": {},
   "outputs": [],
   "source": [
    "np.linspace(0,10,5)"
   ]
  },
  {
   "cell_type": "code",
   "execution_count": null,
   "id": "d336fdc6-3749-4800-b45c-0de4af71efee",
   "metadata": {},
   "outputs": [],
   "source": [
    "def f(x) :\n",
    "    return x**3\n",
    "def g(x):\n",
    "    return x**2"
   ]
  },
  {
   "cell_type": "code",
   "execution_count": null,
   "id": "3289dbe5-3ebd-428b-9ec3-0fd7a787c557",
   "metadata": {},
   "outputs": [],
   "source": [
    "import matplotlib.pyplot as plt\n",
    "X = np.linspace(-10,10,1000)\n",
    "#plt.plot(X, f(X),'r')\n",
    "plt.plot(X,g(X),'g')"
   ]
  },
  {
   "cell_type": "code",
   "execution_count": null,
   "id": "52425394-f902-42b3-8426-0d557eca26f2",
   "metadata": {},
   "outputs": [],
   "source": [
    "x = np.random.random() # [0, 1["
   ]
  },
  {
   "cell_type": "code",
   "execution_count": null,
   "id": "c2a35c76-c768-4594-b6c4-6f54c19fe1e4",
   "metadata": {},
   "outputs": [],
   "source": [
    "t = x = np.random.random(3)"
   ]
  },
  {
   "cell_type": "code",
   "execution_count": null,
   "id": "9605c2a8-48d8-45c7-8ecf-e39bb61b259a",
   "metadata": {},
   "outputs": [],
   "source": [
    "x = np.random.random((3,5))"
   ]
  },
  {
   "cell_type": "code",
   "execution_count": null,
   "id": "2643c60c-ce01-4760-b03c-7b4e16ad17cb",
   "metadata": {},
   "outputs": [],
   "source": [
    "t = np.random.randint(-3,3)"
   ]
  },
  {
   "cell_type": "code",
   "execution_count": null,
   "id": "e215be50-8e79-4e43-bbdb-693722b7a930",
   "metadata": {},
   "outputs": [],
   "source": [
    "t = np.random.randint(-3,3,2)"
   ]
  },
  {
   "cell_type": "code",
   "execution_count": null,
   "id": "95a76eee-5be3-45ac-b1ba-fc8c56c2ce4f",
   "metadata": {},
   "outputs": [],
   "source": [
    "t = np.random.randint(-3,3,(2,3))"
   ]
  },
  {
   "cell_type": "code",
   "execution_count": 27,
   "id": "334c8195-f9f7-4311-880c-8bb6e1071b6a",
   "metadata": {},
   "outputs": [
    {
     "data": {
      "text/plain": [
       "12"
      ]
     },
     "execution_count": 27,
     "metadata": {},
     "output_type": "execute_result"
    }
   ],
   "source": [
    "etudiants = np.arange(1,21)\n",
    "np.random.choice(etudiants)"
   ]
  },
  {
   "cell_type": "code",
   "execution_count": 28,
   "id": "812589e0-ab2b-43e9-9948-50faa8afe09c",
   "metadata": {},
   "outputs": [
    {
     "data": {
      "text/plain": [
       "array([1, 5, 0])"
      ]
     },
     "execution_count": 28,
     "metadata": {},
     "output_type": "execute_result"
    }
   ],
   "source": [
    "tab = np.array([1, 5, 0])\n",
    "tab"
   ]
  },
  {
   "cell_type": "code",
   "execution_count": 33,
   "id": "9dfbbc7f-7734-4da3-aebb-854a91efbd9f",
   "metadata": {},
   "outputs": [
    {
     "data": {
      "text/plain": [
       "array([[ 1,  3,  4,  5],\n",
       "       [ 2,  5,  0,  0],\n",
       "       [ 0,  1,  1, 10]])"
      ]
     },
     "execution_count": 33,
     "metadata": {},
     "output_type": "execute_result"
    }
   ],
   "source": [
    "M = np.array([[1,3,4,5],[2,5,0,0],[0,1,1, 10]])\n",
    "M"
   ]
  },
  {
   "cell_type": "code",
   "execution_count": 32,
   "id": "236237c6-9227-4e02-99c7-3a0b16007f8b",
   "metadata": {},
   "outputs": [
    {
     "data": {
      "text/plain": [
       "(1, 2)"
      ]
     },
     "execution_count": 32,
     "metadata": {},
     "output_type": "execute_result"
    }
   ],
   "source": [
    "M[0,0], M[1,0]"
   ]
  },
  {
   "cell_type": "code",
   "execution_count": 37,
   "id": "52fb16b8-08e6-48d8-990f-45939654385c",
   "metadata": {},
   "outputs": [
    {
     "data": {
      "text/plain": [
       "array([[2, 5],\n",
       "       [0, 1]])"
      ]
     },
     "execution_count": 37,
     "metadata": {},
     "output_type": "execute_result"
    }
   ],
   "source": [
    "M[1:,:2]"
   ]
  },
  {
   "cell_type": "code",
   "execution_count": 42,
   "id": "896751ac-ae12-495f-b4ea-b05c861a9a9c",
   "metadata": {},
   "outputs": [
    {
     "data": {
      "text/plain": [
       "array([[0.11188927, 0.88371475, 0.7575798 , 0.53450927, 0.39569861],\n",
       "       [0.56711514, 0.10659276, 0.35457705, 0.26639736, 0.61561928],\n",
       "       [0.07914383, 0.27987632, 0.60512045, 0.21835162, 0.45166534]])"
      ]
     },
     "execution_count": 42,
     "metadata": {},
     "output_type": "execute_result"
    }
   ],
   "source": [
    "M = np.random.random((3,5))\n",
    "M"
   ]
  },
  {
   "cell_type": "code",
   "execution_count": 43,
   "id": "a6468935-d707-47d3-aeb8-d928d7ecfd5d",
   "metadata": {},
   "outputs": [
    {
     "data": {
      "text/plain": [
       "array([[4, 2, 1, 3, 3],\n",
       "       [1, 1, 2, 1, 2],\n",
       "       [1, 4, 4, 1, 1]])"
      ]
     },
     "execution_count": 43,
     "metadata": {},
     "output_type": "execute_result"
    }
   ],
   "source": [
    "M = np.random.randint(1,5,(3,5))\n",
    "M"
   ]
  },
  {
   "cell_type": "code",
   "execution_count": 45,
   "id": "9256c638-ce20-4e98-8a5a-a6a6176724ba",
   "metadata": {},
   "outputs": [
    {
     "data": {
      "text/plain": [
       "15"
      ]
     },
     "execution_count": 45,
     "metadata": {},
     "output_type": "execute_result"
    }
   ],
   "source": [
    "#M.size\n",
    "np.size(M)"
   ]
  },
  {
   "cell_type": "code",
   "execution_count": 47,
   "id": "f34051f2-2d2b-4682-b7cd-7b25fbcfc4a6",
   "metadata": {},
   "outputs": [
    {
     "data": {
      "text/plain": [
       "(3, 5)"
      ]
     },
     "execution_count": 47,
     "metadata": {},
     "output_type": "execute_result"
    }
   ],
   "source": [
    "#M.shape\n",
    "np.shape(M)"
   ]
  },
  {
   "cell_type": "code",
   "execution_count": 48,
   "id": "5fa97781-968b-446b-a7ff-f274491dd769",
   "metadata": {},
   "outputs": [
    {
     "data": {
      "text/plain": [
       "array([[4, 2, 1],\n",
       "       [3, 3, 1],\n",
       "       [1, 2, 1],\n",
       "       [2, 1, 4],\n",
       "       [4, 1, 1]])"
      ]
     },
     "execution_count": 48,
     "metadata": {},
     "output_type": "execute_result"
    }
   ],
   "source": [
    "M.reshape(5,3)"
   ]
  },
  {
   "cell_type": "code",
   "execution_count": 50,
   "id": "b23fc56e-d0d4-4bf1-a686-3aa994a439ce",
   "metadata": {},
   "outputs": [
    {
     "data": {
      "text/plain": [
       "array([4, 2, 1, 3, 3, 1, 1, 2, 1, 2, 1, 4, 4, 1, 1])"
      ]
     },
     "execution_count": 50,
     "metadata": {},
     "output_type": "execute_result"
    }
   ],
   "source": [
    "M.flatten()"
   ]
  },
  {
   "cell_type": "code",
   "execution_count": 51,
   "id": "6e482841-5d46-4c71-a7e2-25e83e16302a",
   "metadata": {},
   "outputs": [
    {
     "data": {
      "text/plain": [
       "array([4, 2, 1, 3, 3, 1, 1, 2, 1, 2, 1, 4, 4, 1, 1])"
      ]
     },
     "execution_count": 51,
     "metadata": {},
     "output_type": "execute_result"
    }
   ],
   "source": [
    "M.ravel()"
   ]
  },
  {
   "cell_type": "code",
   "execution_count": 56,
   "id": "0a57afe6-dd0f-4274-b371-0bedce205fcb",
   "metadata": {},
   "outputs": [
    {
     "data": {
      "text/plain": [
       "(array([[1, 3, 3],\n",
       "        [3, 1, 2]]),\n",
       " array([[2, 4, 2],\n",
       "        [3, 4, 3],\n",
       "        [2, 3, 3]]),\n",
       " array([[3, 2],\n",
       "        [2, 1]]))"
      ]
     },
     "execution_count": 56,
     "metadata": {},
     "output_type": "execute_result"
    }
   ],
   "source": [
    "A = np.random.randint(1,5,(2,3))\n",
    "B = np.random.randint(1,5,(3,3))\n",
    "C = np.random.randint(1,5,(2,2))\n",
    "A, B, C"
   ]
  },
  {
   "cell_type": "code",
   "execution_count": 59,
   "id": "ff30784c-b074-4ab6-b2fd-ff072dcbec2b",
   "metadata": {},
   "outputs": [
    {
     "data": {
      "text/plain": [
       "array([[1, 3, 3, 3, 2],\n",
       "       [3, 1, 2, 2, 1]])"
      ]
     },
     "execution_count": 59,
     "metadata": {},
     "output_type": "execute_result"
    }
   ],
   "source": [
    "np.hstack((A,C))"
   ]
  },
  {
   "cell_type": "code",
   "execution_count": 60,
   "id": "c3a7259e-a947-41ca-acf4-868262f27a7d",
   "metadata": {},
   "outputs": [],
   "source": [
    "a = np.array([[1, 2, 3], [4, 5, 6]])\n",
    "b = np.array([[2, 1, 3], [3, 2, 1]])"
   ]
  },
  {
   "cell_type": "code",
   "execution_count": 62,
   "id": "059eb1b1-f030-4a81-b0f2-3bd72beb3679",
   "metadata": {},
   "outputs": [
    {
     "data": {
      "text/plain": [
       "(array([[1, 2, 3],\n",
       "        [4, 5, 6]]),\n",
       " array([[2, 1, 3],\n",
       "        [3, 2, 1]]))"
      ]
     },
     "execution_count": 62,
     "metadata": {},
     "output_type": "execute_result"
    }
   ],
   "source": [
    "a, b"
   ]
  },
  {
   "cell_type": "code",
   "execution_count": 64,
   "id": "d48cc942-2e56-449a-95d3-a3177866c959",
   "metadata": {},
   "outputs": [
    {
     "data": {
      "text/plain": [
       "array([[ 2,  2,  9],\n",
       "       [12, 10,  6]])"
      ]
     },
     "execution_count": 64,
     "metadata": {},
     "output_type": "execute_result"
    }
   ],
   "source": [
    "a*b"
   ]
  },
  {
   "cell_type": "code",
   "execution_count": 66,
   "id": "85107467-1df4-47f4-89e1-4546cd87ce05",
   "metadata": {},
   "outputs": [
    {
     "data": {
      "text/plain": [
       "((2, 3), (3, 1))"
      ]
     },
     "execution_count": 66,
     "metadata": {},
     "output_type": "execute_result"
    }
   ],
   "source": [
    "a = np.array([[1, 2, 3], [4, 5, 6]])\n",
    "b = np.array([[4], [2],[1]])\n",
    "a.shape, b.shape"
   ]
  },
  {
   "cell_type": "code",
   "execution_count": 67,
   "id": "3e681ecb-42f5-4ea8-8dde-71e7511ec1da",
   "metadata": {},
   "outputs": [
    {
     "data": {
      "text/plain": [
       "array([[11],\n",
       "       [32]])"
      ]
     },
     "execution_count": 67,
     "metadata": {},
     "output_type": "execute_result"
    }
   ],
   "source": [
    "np.dot(a,b)"
   ]
  },
  {
   "cell_type": "code",
   "execution_count": 68,
   "id": "5ddc67fb-f24f-4a3e-bfaa-0660b596dbe0",
   "metadata": {},
   "outputs": [
    {
     "data": {
      "text/plain": [
       "array([[1, 2, 3],\n",
       "       [4, 5, 6]])"
      ]
     },
     "execution_count": 68,
     "metadata": {},
     "output_type": "execute_result"
    }
   ],
   "source": [
    "a"
   ]
  },
  {
   "cell_type": "code",
   "execution_count": 69,
   "id": "d625d2eb-f73a-4cce-af76-c4d6288554fd",
   "metadata": {},
   "outputs": [
    {
     "data": {
      "text/plain": [
       "array([[1, 4],\n",
       "       [2, 5],\n",
       "       [3, 6]])"
      ]
     },
     "execution_count": 69,
     "metadata": {},
     "output_type": "execute_result"
    }
   ],
   "source": [
    "a.T"
   ]
  },
  {
   "cell_type": "code",
   "execution_count": 77,
   "id": "eeb980e4-ebb8-467c-8ed1-93a654ec4fb3",
   "metadata": {},
   "outputs": [],
   "source": [
    "#Créer une image noire de (200x100) pixels\n",
    "image = np.zeros((200,100), dtype=np.uint8)"
   ]
  },
  {
   "cell_type": "code",
   "execution_count": 79,
   "id": "524be1a1-d121-4314-af0b-33c010a2b581",
   "metadata": {},
   "outputs": [
    {
     "data": {
      "text/plain": [
       "-1"
      ]
     },
     "execution_count": 79,
     "metadata": {},
     "output_type": "execute_result"
    }
   ],
   "source": [
    "import cv2\n",
    "cv2.imshow(\"noire\",image)\n",
    "cv2.waitKey(0)\n",
    "cv2.destroyAllWindows()\n",
    "cv2.waitKey(1)"
   ]
  },
  {
   "cell_type": "code",
   "execution_count": 80,
   "id": "844e34ef-79d8-4ea8-9fd5-fa08c6dc67d1",
   "metadata": {},
   "outputs": [],
   "source": [
    "from numpy.linalg import det"
   ]
  },
  {
   "cell_type": "code",
   "execution_count": 84,
   "id": "1234ffc4-05a7-4167-a6be-1b79fb6877f4",
   "metadata": {},
   "outputs": [
    {
     "data": {
      "text/plain": [
       "1.0"
      ]
     },
     "execution_count": 84,
     "metadata": {},
     "output_type": "execute_result"
    }
   ],
   "source": [
    "a = np.array(np.eye(3))\n",
    "det(a)"
   ]
  },
  {
   "cell_type": "code",
   "execution_count": 85,
   "id": "e603546c-79a8-4575-bea8-c0578c28c912",
   "metadata": {},
   "outputs": [
    {
     "data": {
      "text/plain": [
       "array([[8, 6, 3, 8],\n",
       "       [7, 3, 3, 6],\n",
       "       [1, 2, 6, 5]])"
      ]
     },
     "execution_count": 85,
     "metadata": {},
     "output_type": "execute_result"
    }
   ],
   "source": [
    "a = np.random.randint(0,10,(3,4))\n",
    "a"
   ]
  },
  {
   "cell_type": "code",
   "execution_count": 86,
   "id": "4bd94043-e646-4218-ad66-311947fde219",
   "metadata": {},
   "outputs": [
    {
     "data": {
      "text/plain": [
       "58"
      ]
     },
     "execution_count": 86,
     "metadata": {},
     "output_type": "execute_result"
    }
   ],
   "source": [
    "a.sum()"
   ]
  },
  {
   "cell_type": "code",
   "execution_count": 87,
   "id": "237c8340-406d-4978-ac8b-84ebc9ba6376",
   "metadata": {},
   "outputs": [
    {
     "data": {
      "text/plain": [
       "array([16, 11, 12, 19])"
      ]
     },
     "execution_count": 87,
     "metadata": {},
     "output_type": "execute_result"
    }
   ],
   "source": [
    "a.sum(axis=0)"
   ]
  },
  {
   "cell_type": "code",
   "execution_count": 89,
   "id": "394a2b1d-0674-4ced-a214-4c22041633b3",
   "metadata": {},
   "outputs": [
    {
     "data": {
      "text/plain": [
       "array([9])"
      ]
     },
     "execution_count": 89,
     "metadata": {},
     "output_type": "execute_result"
    }
   ],
   "source": [
    "notes = np.array([12,18,9,14])\n",
    "notes[notes<10]"
   ]
  },
  {
   "cell_type": "code",
   "execution_count": null,
   "id": "dddb2f25-ff75-46c2-94f8-a2c05f7b4152",
   "metadata": {},
   "outputs": [],
   "source": []
  },
  {
   "cell_type": "code",
   "execution_count": null,
   "id": "9e9bd252-a283-430e-88d9-66fecf4f7b28",
   "metadata": {},
   "outputs": [],
   "source": []
  },
  {
   "cell_type": "code",
   "execution_count": null,
   "id": "79bedaa8-8181-4462-ae3e-e86c0300a514",
   "metadata": {},
   "outputs": [],
   "source": []
  },
  {
   "cell_type": "code",
   "execution_count": null,
   "id": "00f1fe42-f5c2-4ab6-b032-ee7a852618bd",
   "metadata": {},
   "outputs": [],
   "source": []
  },
  {
   "cell_type": "code",
   "execution_count": null,
   "id": "73da0c66-2fb6-4efb-9570-74d03eada914",
   "metadata": {},
   "outputs": [],
   "source": []
  },
  {
   "cell_type": "code",
   "execution_count": null,
   "id": "74f03459-832c-4db9-95cb-28c02694f408",
   "metadata": {},
   "outputs": [],
   "source": []
  },
  {
   "cell_type": "code",
   "execution_count": null,
   "id": "a24a7f6a-322e-4d42-b61c-6ed4531cea6c",
   "metadata": {},
   "outputs": [],
   "source": []
  },
  {
   "cell_type": "code",
   "execution_count": null,
   "id": "1b354d91-6d1a-4bb2-9208-7a0c993beaa4",
   "metadata": {},
   "outputs": [],
   "source": []
  },
  {
   "cell_type": "code",
   "execution_count": null,
   "id": "0819910d-0360-4690-9273-9db606676d0f",
   "metadata": {},
   "outputs": [],
   "source": []
  }
 ],
 "metadata": {
  "kernelspec": {
   "display_name": "Python 3 (ipykernel)",
   "language": "python",
   "name": "python3"
  },
  "language_info": {
   "codemirror_mode": {
    "name": "ipython",
    "version": 3
   },
   "file_extension": ".py",
   "mimetype": "text/x-python",
   "name": "python",
   "nbconvert_exporter": "python",
   "pygments_lexer": "ipython3",
   "version": "3.8.20"
  }
 },
 "nbformat": 4,
 "nbformat_minor": 5
}
