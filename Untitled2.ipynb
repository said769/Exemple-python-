{
 "cells": [
  {
   "cell_type": "code",
   "execution_count": null,
   "id": "b5147d88-5e57-414f-81b4-d1487de3ff62",
   "metadata": {},
   "outputs": [],
   "source": []
  }
 ],
 "metadata": {
  "kernelspec": {
   "display_name": "",
   "name": ""
  },
  "language_info": {
   "name": ""
  }
 },
 "nbformat": 4,
 "nbformat_minor": 5
}
