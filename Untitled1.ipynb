{
 "cells": [
  {
   "cell_type": "code",
   "execution_count": null,
   "id": "8982824d-b360-40f4-a05c-d9feb4f41c0a",
   "metadata": {},
   "outputs": [],
   "source": [
    "#ex 4\n",
    "N=float(input(\"donner N:\"))\n",
    "if 0<N<20 :\n",
    "    print(\"N=\",N)\n",
    "else :\n",
    "    print(\"erreur\")\n",
    "print(\"fin du programme\")"
   ]
  },
  {
   "cell_type": "code",
   "execution_count": null,
   "id": "75f6c546-776d-4e5f-be44-48cba2221c1e",
   "metadata": {},
   "outputs": [],
   "source": [
    "#ex 6\n",
    "tab=[]\n",
    "for i in range(0,20,2):\n",
    "    tab.append(i)\n",
    "    tab\n",
    "    print(i)"
   ]
  },
  {
   "cell_type": "code",
   "execution_count": null,
   "id": "7c842e84-c076-4d45-93f6-10d379fa52a1",
   "metadata": {},
   "outputs": [],
   "source": [
    "\n"
   ]
  }
 ],
 "metadata": {
  "kernelspec": {
   "display_name": "Python 3 (ipykernel)",
   "language": "python",
   "name": "python3"
  },
  "language_info": {
   "codemirror_mode": {
    "name": "ipython",
    "version": 3
   },
   "file_extension": ".py",
   "mimetype": "text/x-python",
   "name": "python",
   "nbconvert_exporter": "python",
   "pygments_lexer": "ipython3",
   "version": "3.12.7"
  }
 },
 "nbformat": 4,
 "nbformat_minor": 5
}
