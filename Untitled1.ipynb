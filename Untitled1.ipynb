{
 "cells": [
  {
   "cell_type": "code",
   "execution_count": null,
   "id": "4df85c21-864a-4192-aa4a-7a8ee829ee1a",
   "metadata": {},
   "outputs": [],
   "source": [
    "def fact(n):\n",
    "    f=1\n",
    "    for i in range (2,n+1):\n",
    "        f=f*i\n",
    "    return f"
   ]
  },
  {
   "cell_type": "code",
   "execution_count": null,
   "id": "38a801fd-1c1f-437a-8511-0f6f70b117df",
   "metadata": {},
   "outputs": [],
   "source": [
    "exp=0\n",
    "x=int(input(\"entrer x = \" ))\n",
    "n=int(input(\"entrer n = \" ))\n",
    "for i in range (0,n):\n",
    "    exp=exp +(x**i)/fact(i)\n",
    "    print(exp)"
   ]
  },
  {
   "cell_type": "code",
   "execution_count": null,
   "id": "fc800bae-8fbe-4f69-bd43-a8f2561cdb47",
   "metadata": {},
   "outputs": [],
   "source": [
    "def f(x):\n",
    "    return x**2\n",
    "f(3)"
   ]
  },
  {
   "cell_type": "code",
   "execution_count": null,
   "id": "ec179747-2f73-4dd7-ab0b-2d97357621ff",
   "metadata": {},
   "outputs": [],
   "source": [
    "DESCENTE DE GRADIENT"
   ]
  },
  {
   "cell_type": "code",
   "execution_count": null,
   "id": "8a625009-6616-4a56-ba01-b26632825f56",
   "metadata": {},
   "outputs": [],
   "source": [
    "def f(x):\n",
    "    return x**2\n",
    "import numpy as np\n",
    "x0 = np.random.randint(-10,10)\n",
    "pas = 0.57\n",
    "print(\"position initiale:\",x0)\n",
    "for i in range(5):\n",
    "    x1 = x0 - pas*2*x0\n",
    "    print(\"x1\",x1)\n",
    "    x0 = x1\n",
    "print(\"minimum \",x0)\n",
    "import numpy as np\n",
    "np.random.randint(-10,10)\n",
    "import numpy as np\n",
    "x0 = np.random.randint(-10,10)\n",
    "pas = 0.1\n",
    "print(\"position initiale:\",x0)\n",
    "epsilon = 0.01\n",
    "x1 = x0 - pas*2*x0\n",
    "i=1\n",
    "while(np.abs(x1-x0)>epsilon):\n",
    "    x0 = x1\n",
    "    x1 = x0 - pas*2*x0\n",
    "    print(\"x1\",x1)\n",
    "    i=i+1\n",
    "print(\"le minimum \",x0,\" est atteient après \",i,\"itérations\")\n",
    "import matplotlib.pyplot as plt\n",
    "def f(x):\n",
    "    return x**2\n",
    "import numpy as np\n",
    "X = np.linspace(-10,10,100)\n",
    "plt.plot(X,f(X))\n",
    "plt.grid()\n",
    "plt.xlabel(\"X\")\n",
    "plt.ylabel(\"f(x)\")\n",
    "Text(0, 0.5, 'f(x)')"
   ]
  },
  {
   "cell_type": "code",
   "execution_count": null,
   "id": "05549eaf-f0e3-4cde-bc84-d96ebe4579b1",
   "metadata": {},
   "outputs": [],
   "source": [
    "import numpy as np\n",
    "x0 = np.random.randint(-10,10) #-10\n",
    "pas = 0.57\n",
    "print(\"position initiale:\",x0)\n",
    "epsilon = 0.01\n",
    "x1 = x0 - pas*2*x0\n",
    "i=1\n",
    "X = np.linspace(-10,10,100)\n",
    "plt.plot(X,f(X))\n",
    "plt.plot(x0,f(x0),'r^')\n",
    "while(np.abs(x1-x0)>epsilon):\n",
    "    plt.plot(x0,f(x0),'r^')\n",
    "    x0 = x1\n",
    "    x1 = x0 - pas*2*x0\n",
    "    i=i+1\n",
    "print(\"le minimum \",x0,\" est atteient après \",i,\"itérations\")\n",
    "plt.plot(x0,f(x0),'g*')\n",
    "\n"
   ]
  },
  {
   "cell_type": "code",
   "execution_count": null,
   "id": "d160b0fb-d139-4fd3-9610-2dfbb941da20",
   "metadata": {},
   "outputs": [],
   "source": [
    "#pip install numpy"
   ]
  },
  {
   "cell_type": "code",
   "execution_count": null,
   "id": "34251247-4890-45b3-90d0-5cbaa2b53af8",
   "metadata": {},
   "outputs": [],
   "source": [
    "import numpy as np"
   ]
  },
  {
   "cell_type": "code",
   "execution_count": 4,
   "id": "0379f147-e38d-48fd-9f76-386e334d45bc",
   "metadata": {},
   "outputs": [],
   "source": [
    "p = [1,4.5, 'Lundi']\n",
    "p"
   ]
  },
  {
   "cell_type": "code",
   "execution_count": null,
   "id": "608a0594-db35-4c38-b81b-406b886a6f45",
   "metadata": {},
   "outputs": [],
   "source": [
    "len(p)"
   ]
  },
  {
   "cell_type": "code",
   "execution_count": 6,
   "id": "1e048a24-3d87-4b38-bf81-c7dd8fac2404",
   "metadata": {},
   "outputs": [
    {
     "data": {
      "text/plain": [
       "[1, 4.5, 'Lundi', 100]"
      ]
     },
     "execution_count": 6,
     "metadata": {},
     "output_type": "execute_result"
    }
   ],
   "source": [
    "p.append(100)\n",
    "p"
   ]
  },
  {
   "cell_type": "code",
   "execution_count": 17,
   "id": "94d892de-2719-46c8-9253-d1de2cd60fd8",
   "metadata": {},
   "outputs": [
    {
     "data": {
      "text/plain": [
       "[0, 1, 4, 9, 16, 25, 36, 49, 64, 81]"
      ]
     },
     "execution_count": 17,
     "metadata": {},
     "output_type": "execute_result"
    }
   ],
   "source": [
    "Liste = [i**2 for i in range (10)]\n",
    "Liste"
   ]
  },
  {
   "cell_type": "code",
   "execution_count": 12,
   "id": "094f1649-dfd7-4d54-94b9-9a207f60af3c",
   "metadata": {},
   "outputs": [],
   "source": [
    "def f(x):\n",
    "    return x**3"
   ]
  },
  {
   "cell_type": "code",
   "execution_count": 19,
   "id": "cbf57e4a-9fa8-4d09-921f-76c72a5a699a",
   "metadata": {},
   "outputs": [
    {
     "data": {
      "text/plain": [
       "[0, 1, 64, 729, 4096, 15625, 46656, 117649, 262144, 531441]"
      ]
     },
     "execution_count": 19,
     "metadata": {},
     "output_type": "execute_result"
    }
   ],
   "source": [
    "[f(x) for x in Liste]"
   ]
  },
  {
   "cell_type": "code",
   "execution_count": 20,
   "id": "8a2f30a2-e982-453a-9da6-bc80c84ef3a4",
   "metadata": {},
   "outputs": [],
   "source": [
    "import numpy as np"
   ]
  },
  {
   "cell_type": "code",
   "execution_count": 27,
   "id": "97c80522-424f-471f-860b-3a13ba033252",
   "metadata": {},
   "outputs": [
    {
     "name": "stdout",
     "output_type": "stream",
     "text": [
      "[1 2 3 5]\n"
     ]
    }
   ],
   "source": [
    "tab = np.array([1,2,3,5])\n",
    "#tab\n",
    "type(tab)"
   ]
  },
  {
   "cell_type": "code",
   "execution_count": 29,
   "id": "c2d880f1-c617-4b0a-af3d-feef64bc3754",
   "metadata": {},
   "outputs": [
    {
     "data": {
      "text/plain": [
       "list"
      ]
     },
     "execution_count": 29,
     "metadata": {},
     "output_type": "execute_result"
    }
   ],
   "source": [
    "Liste\n",
    "type(Liste)"
   ]
  },
  {
   "cell_type": "code",
   "execution_count": 28,
   "id": "1de88cfe-7385-4cb6-a623-80a66d011f4e",
   "metadata": {},
   "outputs": [
    {
     "data": {
      "text/plain": [
       "array([ 1. , 13.6])"
      ]
     },
     "execution_count": 28,
     "metadata": {},
     "output_type": "execute_result"
    }
   ],
   "source": [
    "tab1 = np.array([1,13.6])\n",
    "tab1"
   ]
  },
  {
   "cell_type": "code",
   "execution_count": 35,
   "id": "b86c7471-9470-4803-9acd-4050aa9dad53",
   "metadata": {},
   "outputs": [
    {
     "data": {
      "text/plain": [
       "array(['1', '13.6', 'Lundi'], dtype='<U32')"
      ]
     },
     "execution_count": 35,
     "metadata": {},
     "output_type": "execute_result"
    }
   ],
   "source": [
    "tab2 = np.array([ 1, 13.6,'Lundi'])\n",
    "tab2"
   ]
  },
  {
   "cell_type": "code",
   "execution_count": 37,
   "id": "3280cdec-2dd6-4edb-ad7a-679e3d8a72c8",
   "metadata": {},
   "outputs": [
    {
     "data": {
      "text/plain": [
       "array([ 1, 13])"
      ]
     },
     "execution_count": 37,
     "metadata": {},
     "output_type": "execute_result"
    }
   ],
   "source": [
    "T = np.array([1,13])\n",
    "T"
   ]
  },
  {
   "cell_type": "code",
   "execution_count": 36,
   "id": "c4c8ac13-f5bb-4106-b61c-afa0c1e3b76f",
   "metadata": {},
   "outputs": [
    {
     "data": {
      "text/plain": [
       "numpy.int32"
      ]
     },
     "execution_count": 36,
     "metadata": {},
     "output_type": "execute_result"
    }
   ],
   "source": [
    "T = np.array([1,13])\n",
    "type(T[0])"
   ]
  },
  {
   "cell_type": "code",
   "execution_count": 56,
   "id": "661623ce-3cfc-4ecd-983e-30b2d10ac9dd",
   "metadata": {},
   "outputs": [
    {
     "name": "stderr",
     "output_type": "stream",
     "text": [
      "C:\\Users\\PCH\\AppData\\Local\\Temp\\ipykernel_12692\\2629553964.py:1: DeprecationWarning: NumPy will stop allowing conversion of out-of-bound Python integers to integer arrays.  The conversion of -129 to int8 will fail in the future.\n",
      "For the old behavior, usually:\n",
      "    np.array(value).astype(dtype)\n",
      "will give the desired result (the cast overflows).\n",
      "  T = np.array([-129,3], dtype=np.int8)\n"
     ]
    },
    {
     "data": {
      "text/plain": [
       "array([127,   3], dtype=int8)"
      ]
     },
     "execution_count": 56,
     "metadata": {},
     "output_type": "execute_result"
    }
   ],
   "source": [
    "T = np.array([-129,3], dtype=np.uint8)\n",
    "T"
   ]
  },
  {
   "cell_type": "code",
   "execution_count": 57,
   "id": "6e7507b8-2c68-4096-b93b-1b94b3e99b74",
   "metadata": {},
   "outputs": [
    {
     "data": {
      "text/plain": [
       "array([ 0.,  5., 10.])"
      ]
     },
     "execution_count": 57,
     "metadata": {},
     "output_type": "execute_result"
    }
   ],
   "source": [
    "np.linspace(0,10,3)"
   ]
  },
  {
   "cell_type": "code",
   "execution_count": 58,
   "id": "361c8efe-f4f7-4240-a6a8-ad504df28eb6",
   "metadata": {},
   "outputs": [],
   "source": [
    "def f(x):\n",
    "    return x**3\n",
    "def g(x):\n",
    "    return x**2"
   ]
  },
  {
   "cell_type": "code",
   "execution_count": 62,
   "id": "7fc7a887-e08b-4688-89d6-b44857b97801",
   "metadata": {},
   "outputs": [
    {
     "data": {
      "text/plain": [
       "[<matplotlib.lines.Line2D at 0x1e228992030>]"
      ]
     },
     "execution_count": 62,
     "metadata": {},
     "output_type": "execute_result"
    },
    {
     "data": {
      "image/png": "[encoded data removed]",
      "text/plain": [
       "<Figure size 640x480 with 1 Axes>"
      ]
     },
     "metadata": {},
     "output_type": "display_data"
    }
   ],
   "source": [
    "import matplotlib.pyplot as plt\n",
    "x=np.linspace(-10,10,100)\n",
    "plt.plot(x,f(x),'r')\n",
    "plt.plot(x,g(x),'g')"
   ]
  },
  {
   "cell_type": "code",
   "execution_count": 66,
   "id": "cbad6fe5-ddd4-47ac-a572-6562edadf79d",
   "metadata": {},
   "outputs": [
    {
     "data": {
      "text/plain": [
       "0.6457373386893058"
      ]
     },
     "execution_count": 66,
     "metadata": {},
     "output_type": "execute_result"
    }
   ],
   "source": [
    "x=np.random.random() #entre o et 1 mais 1 non inclut\n",
    "x"
   ]
  },
  {
   "cell_type": "code",
   "execution_count": 71,
   "id": "e2c5d235-72de-43fb-90a3-85f94c8d1244",
   "metadata": {},
   "outputs": [
    {
     "data": {
      "text/plain": [
       "array([0.42340428, 0.15646731, 0.93699399])"
      ]
     },
     "execution_count": 71,
     "metadata": {},
     "output_type": "execute_result"
    }
   ],
   "source": [
    "t=np.random.random(3)\n",
    "t"
   ]
  },
  {
   "cell_type": "code",
   "execution_count": 72,
   "id": "b22e0569-31d1-467a-84ae-4be5dcfbc6cc",
   "metadata": {},
   "outputs": [
    {
     "data": {
      "text/plain": [
       "0.4234042810976253"
      ]
     },
     "execution_count": 72,
     "metadata": {},
     "output_type": "execute_result"
    }
   ],
   "source": [
    "t[0]"
   ]
  },
  {
   "cell_type": "code",
   "execution_count": null,
   "id": "6e2fba9c-a8e9-4986-af16-45e9ec94a44b",
   "metadata": {},
   "outputs": [],
   "source": [
    "X=np.random.random((3,5))\n",
    "X"
   ]
  },
  {
   "cell_type": "code",
   "execution_count": null,
   "id": "4494c764-c9fe-4264-b6ec-ff53cfbb1dfe",
   "metadata": {},
   "outputs": [],
   "source": [
    "X=np.random.randint(1,5)\n",
    "X"
   ]
  },
  {
   "cell_type": "code",
   "execution_count": null,
   "id": "3d78278c-8c77-4af2-a88a-a588afa0a2d9",
   "metadata": {},
   "outputs": [],
   "source": [
    "t=np.random.randint(-3,4,(3,2))\n",
    "t"
   ]
  },
  {
   "cell_type": "code",
   "execution_count": 98,
   "id": "f86f7084-c195-4c69-ae1f-796b7aa78981",
   "metadata": {},
   "outputs": [
    {
     "data": {
      "text/plain": [
       "16"
      ]
     },
     "execution_count": 98,
     "metadata": {},
     "output_type": "execute_result"
    }
   ],
   "source": [
    "tab = np.arange(10)\n",
    "tab\n",
    "etudiants=np.arange(1,21)\n",
    "np.random.choice(etudiants)"
   ]
  },
  {
   "cell_type": "code",
   "execution_count": 101,
   "id": "0e4d3987-d3fb-4a9c-907a-365e81caede6",
   "metadata": {},
   "outputs": [
    {
     "data": {
      "text/plain": [
       "array([1, 5, 0])"
      ]
     },
     "execution_count": 101,
     "metadata": {},
     "output_type": "execute_result"
    }
   ],
   "source": [
    "tab = np.array([1,5,0])\n",
    "tab"
   ]
  },
  {
   "cell_type": "code",
   "execution_count": 118,
   "id": "56a10335-8c54-4ad8-bb70-5b84bdde098c",
   "metadata": {},
   "outputs": [
    {
     "data": {
      "text/plain": [
       "array([[1, 8, 3],\n",
       "       [1, 6, 5],\n",
       "       [4, 9, 0]])"
      ]
     },
     "execution_count": 118,
     "metadata": {},
     "output_type": "execute_result"
    }
   ],
   "source": [
    "M=np.array([[1,8,3],[1,6,5],[4,9,0]])\n",
    "M"
   ]
  },
  {
   "cell_type": "code",
   "execution_count": 123,
   "id": "c6fa0da4-0841-40ec-bcd9-a0e363fd6a82",
   "metadata": {},
   "outputs": [
    {
     "data": {
      "text/plain": [
       "array([[1, 8],\n",
       "       [1, 6],\n",
       "       [4, 9]])"
      ]
     },
     "execution_count": 123,
     "metadata": {},
     "output_type": "execute_result"
    }
   ],
   "source": [
    "M[0:,:2]"
   ]
  },
  {
   "cell_type": "code",
   "execution_count": 126,
   "id": "b3bb7972-6817-450c-a241-595472957d4c",
   "metadata": {},
   "outputs": [
    {
     "data": {
      "text/plain": [
       "array([[0.09477923, 0.16352307, 0.96323965, 0.77425305, 0.06571559],\n",
       "       [0.06032659, 0.18144284, 0.75479444, 0.8908399 , 0.53178858],\n",
       "       [0.72712608, 0.3128252 , 0.09437795, 0.48320145, 0.85554847]])"
      ]
     },
     "execution_count": 126,
     "metadata": {},
     "output_type": "execute_result"
    }
   ],
   "source": [
    "M=np.random.random((3,5))\n",
    "M"
   ]
  },
  {
   "cell_type": "code",
   "execution_count": 128,
   "id": "f02b75a0-0f46-438b-9292-4b266533678a",
   "metadata": {},
   "outputs": [
    {
     "data": {
      "text/plain": [
       "array([[3, 2, 2, 2, 2],\n",
       "       [4, 2, 3, 1, 3],\n",
       "       [3, 1, 1, 1, 4]])"
      ]
     },
     "execution_count": 128,
     "metadata": {},
     "output_type": "execute_result"
    }
   ],
   "source": [
    "M=np.random.randint(1,5,(3,5))\n",
    "M"
   ]
  },
  {
   "cell_type": "code",
   "execution_count": 137,
   "id": "de7f6f95-17f2-4749-a9f3-32578945bbe1",
   "metadata": {},
   "outputs": [
    {
     "data": {
      "text/plain": [
       "array([[3, 2, 2],\n",
       "       [2, 2, 4],\n",
       "       [2, 3, 1],\n",
       "       [3, 3, 1],\n",
       "       [1, 1, 4]])"
      ]
     },
     "execution_count": 137,
     "metadata": {},
     "output_type": "execute_result"
    }
   ],
   "source": [
    "#M.size\n",
    "#np.size(M)\n",
    "#M.shape (forme)\n",
    "#np.shape(M)\n",
    "M.reshape(5,3)"
   ]
  },
  {
   "cell_type": "code",
   "execution_count": 138,
   "id": "0c291934-86c9-44ae-a01e-fb9ac05f5736",
   "metadata": {},
   "outputs": [
    {
     "data": {
      "text/plain": [
       "array([3, 2, 2, 2, 2, 4, 2, 3, 1, 3, 3, 1, 1, 1, 4])"
      ]
     },
     "execution_count": 138,
     "metadata": {},
     "output_type": "execute_result"
    }
   ],
   "source": [
    "M.flatten()"
   ]
  },
  {
   "cell_type": "code",
   "execution_count": 139,
   "id": "e9bcda92-fd85-4282-ad3a-c5b7473b25a3",
   "metadata": {},
   "outputs": [
    {
     "data": {
      "text/plain": [
       "array([3, 2, 2, 2, 2, 4, 2, 3, 1, 3, 3, 1, 1, 1, 4])"
      ]
     },
     "execution_count": 139,
     "metadata": {},
     "output_type": "execute_result"
    }
   ],
   "source": [
    "M.ravel()"
   ]
  },
  {
   "cell_type": "code",
   "execution_count": 145,
   "id": "a3054556-ccb8-4396-bcfc-ff5126d3dbb5",
   "metadata": {},
   "outputs": [
    {
     "data": {
      "text/plain": [
       "(array([[3, 1, 4],\n",
       "        [3, 1, 1]]),\n",
       " array([[3, 4, 1],\n",
       "        [1, 1, 2],\n",
       "        [3, 1, 4]]),\n",
       " array([[3, 1],\n",
       "        [1, 3]]))"
      ]
     },
     "execution_count": 145,
     "metadata": {},
     "output_type": "execute_result"
    }
   ],
   "source": [
    "A=np.random.randint(1,5,(2,3))\n",
    "B=np.random.randint(1,5,(3,3))\n",
    "C=np.random.randint(1,5,(2,2))\n",
    "A,B,C"
   ]
  },
  {
   "cell_type": "code",
   "execution_count": 148,
   "id": "f885b9b2-93f4-4b8e-a1a2-04198b777e57",
   "metadata": {},
   "outputs": [
    {
     "data": {
      "text/plain": [
       "array([[3, 1, 4],\n",
       "       [3, 1, 1],\n",
       "       [3, 4, 1],\n",
       "       [1, 1, 2],\n",
       "       [3, 1, 4]])"
      ]
     },
     "execution_count": 148,
     "metadata": {},
     "output_type": "execute_result"
    }
   ],
   "source": [
    "#np.hstack((A,C))\n",
    "np.vstack((A,B))"
   ]
  },
  {
   "cell_type": "code",
   "execution_count": 155,
   "id": "c5df539b-803e-4b47-8282-52cdff5b1702",
   "metadata": {},
   "outputs": [
    {
     "data": {
      "text/plain": [
       "array([[ 2,  2,  9],\n",
       "       [12, 10,  6]])"
      ]
     },
     "execution_count": 155,
     "metadata": {},
     "output_type": "execute_result"
    }
   ],
   "source": [
    "a = np.array([[1, 2, 3], [4, 5, 6]])\n",
    "b = np.array([[2, 1, 3], [3, 2, 1]])\n",
    "a*b"
   ]
  },
  {
   "cell_type": "code",
   "execution_count": 156,
   "id": "448f973d-9abb-491c-94f6-65d79339be41",
   "metadata": {},
   "outputs": [
    {
     "data": {
      "text/plain": [
       "array([[11],\n",
       "       [32]])"
      ]
     },
     "execution_count": 156,
     "metadata": {},
     "output_type": "execute_result"
    }
   ],
   "source": [
    "a = np.array([[1, 2, 3], [4, 5, 6]])\n",
    "b = np.array([[4], [2],[1]])\n",
    "np.dot(a,b)"
   ]
  },
  {
   "cell_type": "code",
   "execution_count": 157,
   "id": "ebe6110e-a8ad-4033-98c4-cc5f256e7461",
   "metadata": {},
   "outputs": [
    {
     "data": {
      "text/plain": [
       "array([0., 0., 0.])"
      ]
     },
     "execution_count": 157,
     "metadata": {},
     "output_type": "execute_result"
    }
   ],
   "source": [
    "np.zeros(3)"
   ]
  },
  {
   "cell_type": "code",
   "execution_count": 159,
   "id": "9c059437-04e5-41a7-bdd7-ff3573ca694a",
   "metadata": {},
   "outputs": [
    {
     "data": {
      "text/plain": [
       "array([[0, 0, 0, ..., 0, 0, 0],\n",
       "       [0, 0, 0, ..., 0, 0, 0],\n",
       "       [0, 0, 0, ..., 0, 0, 0],\n",
       "       ...,\n",
       "       [0, 0, 0, ..., 0, 0, 0],\n",
       "       [0, 0, 0, ..., 0, 0, 0],\n",
       "       [0, 0, 0, ..., 0, 0, 0]], dtype=uint8)"
      ]
     },
     "execution_count": 159,
     "metadata": {},
     "output_type": "execute_result"
    }
   ],
   "source": [
    "#cree une image noire de (200,100)pixels\n",
    "np.zeros((200,100),dtype=np.uint8)"
   ]
  },
  {
   "cell_type": "code",
   "execution_count": 160,
   "id": "c24a4b19-6de3-4eef-a6f3-52dc12c3f37e",
   "metadata": {},
   "outputs": [],
   "source": [
    "image=np.zeros((200,100),dtype=np.uint8)"
   ]
  },
  {
   "cell_type": "code",
   "execution_count": null,
   "id": "a30073a6-2211-43f1-ba29-9cc1c9421c08",
   "metadata": {},
   "outputs": [],
   "source": [
    "import cv2\n",
    "cv2.imshow(\"noire\",image)\n",
    "cv2.waitkey(0)\n",
    "cv2.destroyAllWindows()"
   ]
  },
  {
   "cell_type": "code",
   "execution_count": 162,
   "id": "f1e9bbba-5176-4a77-920f-cf621b9756ff",
   "metadata": {},
   "outputs": [
    {
     "data": {
      "text/plain": [
       "array([[1., 0., 0.],\n",
       "       [0., 1., 0.],\n",
       "       [0., 0., 1.]])"
      ]
     },
     "execution_count": 162,
     "metadata": {},
     "output_type": "execute_result"
    }
   ],
   "source": [
    "np.eye(3)"
   ]
  },
  {
   "cell_type": "code",
   "execution_count": 163,
   "id": "506dee80-bc51-446b-99b4-ee16f5d51a5d",
   "metadata": {},
   "outputs": [
    {
     "data": {
      "text/plain": [
       "-2.0000000000000004"
      ]
     },
     "execution_count": 163,
     "metadata": {},
     "output_type": "execute_result"
    }
   ],
   "source": [
    "#Déterminant - numpy.linalg.det()\n",
    "from numpy.linalg import det\n",
    "a = np.array([[1, 2], [3, 4]])\n",
    "det(a)"
   ]
  },
  {
   "cell_type": "code",
   "execution_count": 164,
   "id": "306f8533-543d-4967-95be-be2f620807bf",
   "metadata": {},
   "outputs": [
    {
     "data": {
      "text/plain": [
       "array([[ 7., -3., -3.],\n",
       "       [-1.,  1.,  0.],\n",
       "       [-1.,  0.,  1.]])"
      ]
     },
     "execution_count": 164,
     "metadata": {},
     "output_type": "execute_result"
    }
   ],
   "source": [
    "#Inverse - numpy.linalg.inv()\n",
    "from numpy.linalg import inv\n",
    "a = np.array([[1, 3, 3],\n",
    "                  [1, 4, 3],\n",
    "                  [1, 3, 4]])\n",
    "inv(a)"
   ]
  },
  {
   "cell_type": "code",
   "execution_count": 166,
   "id": "399fc657-d5b2-4d34-b6f1-c22da6df7934",
   "metadata": {},
   "outputs": [
    {
     "data": {
      "text/plain": [
       "array([2., 3.])"
      ]
     },
     "execution_count": 166,
     "metadata": {},
     "output_type": "execute_result"
    }
   ],
   "source": [
    "#Résolution d’un système d’équations linéaires - numpy.linalg.solve()\n",
    "a = np.array([[3,1], [1,2]])\n",
    "b = np.array([9,8])\n",
    "x = np.linalg.solve(a, b)\n",
    "x"
   ]
  },
  {
   "cell_type": "code",
   "execution_count": 165,
   "id": "1d7a8011-1939-4e9c-9ce4-8ce063d115e4",
   "metadata": {},
   "outputs": [
    {
     "name": "stdout",
     "output_type": "stream",
     "text": [
      "[[ 1  1 -2]\n",
      " [-1  2  1]\n",
      " [ 0  1 -1]]\n",
      "[ 2.  1. -1.]\n",
      "[[ 3.01511345e-01 -8.01783726e-01  7.07106781e-01]\n",
      " [ 9.04534034e-01 -5.34522484e-01  8.03160908e-17]\n",
      " [ 3.01511345e-01 -2.67261242e-01  7.07106781e-01]]\n"
     ]
    }
   ],
   "source": [
    "#Valeurs propres et vecteurs propres - numpy.linalg.eig()\n",
    "from numpy.linalg import eig\n",
    "A = np.array([[ 1, 1, -2 ], [-1, 2, 1], [0, 1, -1]])\n",
    "print(A)\n",
    "D, V = eig(A)\n",
    "print(D)\n",
    "print(V)"
   ]
  },
  {
   "cell_type": "code",
   "execution_count": 175,
   "id": "35133544-8b3b-4513-8820-54eac5844378",
   "metadata": {},
   "outputs": [
    {
     "name": "stdout",
     "output_type": "stream",
     "text": [
      "[[3 2 1 2 1]\n",
      " [2 1 1 3 2]]\n"
     ]
    },
    {
     "data": {
      "text/plain": [
       "array([9, 9])"
      ]
     },
     "execution_count": 175,
     "metadata": {},
     "output_type": "execute_result"
    }
   ],
   "source": [
    "a=np.random.randint(1,4,(2,5))\n",
    "print(a)\n",
    "a.sum()\n",
    "a.sum(axis=0)\n",
    "a.sum(axis=1)"
   ]
  },
  {
   "cell_type": "code",
   "execution_count": 178,
   "id": "21288c87-a57c-42d3-9a17-19ef09b6226a",
   "metadata": {},
   "outputs": [],
   "source": [
    "M = np.ones((3, 3))\n",
    "M\n",
    "M+5\n",
    "a=M"
   ]
  },
  {
   "cell_type": "code",
   "execution_count": 179,
   "id": "3a3e3c13-24e4-4bb7-8b95-d324ca607724",
   "metadata": {},
   "outputs": [
    {
     "name": "stdout",
     "output_type": "stream",
     "text": [
      "[[1. 1. 1.]\n",
      " [1. 1. 1.]\n",
      " [1. 1. 1.]]\n",
      "[[0.5 0.5 0.5]\n",
      " [0.5 0.5 0.5]\n",
      " [0.5 0.5 0.5]]\n",
      "[[2. 2. 2.]\n",
      " [2. 2. 2.]\n",
      " [2. 2. 2.]]\n",
      "[[ True  True  True]\n",
      " [ True  True  True]\n",
      " [ True  True  True]]\n"
     ]
    }
   ],
   "source": [
    "print(a)\n",
    "print(a/2)\n",
    "print(a*2)\n",
    "print(a<2)"
   ]
  },
  {
   "cell_type": "code",
   "execution_count": 180,
   "id": "b290665f-07bf-4063-be68-fa73f095c4c4",
   "metadata": {},
   "outputs": [
    {
     "data": {
      "text/plain": [
       "array([[5, 0, 3, 3],\n",
       "       [7, 9, 3, 5],\n",
       "       [2, 4, 7, 6]])"
      ]
     },
     "execution_count": 180,
     "metadata": {},
     "output_type": "execute_result"
    }
   ],
   "source": [
    "x = np.array([[5, 0, 3, 3],[7, 9, 3, 5],[2, 4, 7, 6]])\n",
    "x"
   ]
  },
  {
   "cell_type": "code",
   "execution_count": 182,
   "id": "bf064306-488f-4b15-8c3e-39e5797a463a",
   "metadata": {},
   "outputs": [
    {
     "data": {
      "text/plain": [
       "array([[ True,  True,  True,  True],\n",
       "       [ True, False,  True,  True],\n",
       "       [ True,  True,  True,  True]])"
      ]
     },
     "execution_count": 182,
     "metadata": {},
     "output_type": "execute_result"
    }
   ],
   "source": [
    "x<=7"
   ]
  },
  {
   "cell_type": "code",
   "execution_count": 187,
   "id": "9cb5db45-777e-49cf-be64-4767c6aabdfe",
   "metadata": {},
   "outputs": [
    {
     "data": {
      "text/plain": [
       "False"
      ]
     },
     "execution_count": 187,
     "metadata": {},
     "output_type": "execute_result"
    }
   ],
   "source": [
    "notes =np.array([12,18,9,14,5])\n",
    "notes<10\n",
    "np.any(notes > 18)"
   ]
  },
  {
   "cell_type": "code",
   "execution_count": 188,
   "id": "c1b9597a-bcd2-45b9-af88-e091565cb45d",
   "metadata": {},
   "outputs": [
    {
     "data": {
      "text/plain": [
       "1"
      ]
     },
     "execution_count": 188,
     "metadata": {},
     "output_type": "execute_result"
    }
   ],
   "source": [
    "np.sum((notes > 0) & (notes < 6))"
   ]
  }
 ],
 "metadata": {
  "kernelspec": {
   "display_name": "Python 3 (ipykernel)",
   "language": "python",
   "name": "python3"
  },
  "language_info": {
   "codemirror_mode": {
    "name": "ipython",
    "version": 3
   },
   "file_extension": ".py",
   "mimetype": "text/x-python",
   "name": "python",
   "nbconvert_exporter": "python",
   "pygments_lexer": "ipython3",
   "version": "3.12.7"
  }
 },
 "nbformat": 4,
 "nbformat_minor": 5
}
